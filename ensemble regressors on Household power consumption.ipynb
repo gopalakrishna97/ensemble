{
 "cells": [
  {
   "cell_type": "code",
   "execution_count": 1,
   "id": "20a4000b",
   "metadata": {},
   "outputs": [],
   "source": [
    "import pandas as pd \n",
    "import numpy as np\n",
    "import seaborn as sns\n",
    "import matplotlib.pyplot as plt\n",
    "%matplotlib inline  \n",
    "sns.set()"
   ]
  },
  {
   "cell_type": "code",
   "execution_count": 2,
   "id": "59316055",
   "metadata": {},
   "outputs": [
    {
     "data": {
      "text/html": [
       "<div>\n",
       "<style scoped>\n",
       "    .dataframe tbody tr th:only-of-type {\n",
       "        vertical-align: middle;\n",
       "    }\n",
       "\n",
       "    .dataframe tbody tr th {\n",
       "        vertical-align: top;\n",
       "    }\n",
       "\n",
       "    .dataframe thead th {\n",
       "        text-align: right;\n",
       "    }\n",
       "</style>\n",
       "<table border=\"1\" class=\"dataframe\">\n",
       "  <thead>\n",
       "    <tr style=\"text-align: right;\">\n",
       "      <th></th>\n",
       "      <th>Date_Time</th>\n",
       "      <th>Global_active_power</th>\n",
       "      <th>Global_reactive_power</th>\n",
       "      <th>Voltage</th>\n",
       "      <th>Global_intensity</th>\n",
       "      <th>Sub_metering_1</th>\n",
       "      <th>Sub_metering_2</th>\n",
       "      <th>Sub_metering_3</th>\n",
       "    </tr>\n",
       "  </thead>\n",
       "  <tbody>\n",
       "    <tr>\n",
       "      <th>0</th>\n",
       "      <td>2006-12-16 17:24:00</td>\n",
       "      <td>4.216</td>\n",
       "      <td>0.418</td>\n",
       "      <td>234.840</td>\n",
       "      <td>18.400</td>\n",
       "      <td>0.000</td>\n",
       "      <td>1.000</td>\n",
       "      <td>17.0</td>\n",
       "    </tr>\n",
       "    <tr>\n",
       "      <th>1</th>\n",
       "      <td>2006-12-16 17:25:00</td>\n",
       "      <td>5.360</td>\n",
       "      <td>0.436</td>\n",
       "      <td>233.630</td>\n",
       "      <td>23.000</td>\n",
       "      <td>0.000</td>\n",
       "      <td>1.000</td>\n",
       "      <td>16.0</td>\n",
       "    </tr>\n",
       "    <tr>\n",
       "      <th>2</th>\n",
       "      <td>2006-12-16 17:26:00</td>\n",
       "      <td>5.374</td>\n",
       "      <td>0.498</td>\n",
       "      <td>233.290</td>\n",
       "      <td>23.000</td>\n",
       "      <td>0.000</td>\n",
       "      <td>2.000</td>\n",
       "      <td>17.0</td>\n",
       "    </tr>\n",
       "    <tr>\n",
       "      <th>3</th>\n",
       "      <td>2006-12-16 17:27:00</td>\n",
       "      <td>5.388</td>\n",
       "      <td>0.502</td>\n",
       "      <td>233.740</td>\n",
       "      <td>23.000</td>\n",
       "      <td>0.000</td>\n",
       "      <td>1.000</td>\n",
       "      <td>17.0</td>\n",
       "    </tr>\n",
       "    <tr>\n",
       "      <th>4</th>\n",
       "      <td>2006-12-16 17:28:00</td>\n",
       "      <td>3.666</td>\n",
       "      <td>0.528</td>\n",
       "      <td>235.680</td>\n",
       "      <td>15.800</td>\n",
       "      <td>0.000</td>\n",
       "      <td>1.000</td>\n",
       "      <td>17.0</td>\n",
       "    </tr>\n",
       "    <tr>\n",
       "      <th>...</th>\n",
       "      <td>...</td>\n",
       "      <td>...</td>\n",
       "      <td>...</td>\n",
       "      <td>...</td>\n",
       "      <td>...</td>\n",
       "      <td>...</td>\n",
       "      <td>...</td>\n",
       "      <td>...</td>\n",
       "    </tr>\n",
       "    <tr>\n",
       "      <th>2075254</th>\n",
       "      <td>2010-11-26 20:58:00</td>\n",
       "      <td>0.946</td>\n",
       "      <td>0.000</td>\n",
       "      <td>240.430</td>\n",
       "      <td>4.000</td>\n",
       "      <td>0.000</td>\n",
       "      <td>0.000</td>\n",
       "      <td>0.0</td>\n",
       "    </tr>\n",
       "    <tr>\n",
       "      <th>2075255</th>\n",
       "      <td>2010-11-26 20:59:00</td>\n",
       "      <td>0.944</td>\n",
       "      <td>0.000</td>\n",
       "      <td>240.000</td>\n",
       "      <td>4.000</td>\n",
       "      <td>0.000</td>\n",
       "      <td>0.000</td>\n",
       "      <td>0.0</td>\n",
       "    </tr>\n",
       "    <tr>\n",
       "      <th>2075256</th>\n",
       "      <td>2010-11-26 21:00:00</td>\n",
       "      <td>0.938</td>\n",
       "      <td>0.000</td>\n",
       "      <td>239.820</td>\n",
       "      <td>3.800</td>\n",
       "      <td>0.000</td>\n",
       "      <td>0.000</td>\n",
       "      <td>0.0</td>\n",
       "    </tr>\n",
       "    <tr>\n",
       "      <th>2075257</th>\n",
       "      <td>2010-11-26 21:01:00</td>\n",
       "      <td>0.934</td>\n",
       "      <td>0.000</td>\n",
       "      <td>239.700</td>\n",
       "      <td>3.800</td>\n",
       "      <td>0.000</td>\n",
       "      <td>0.000</td>\n",
       "      <td>0.0</td>\n",
       "    </tr>\n",
       "    <tr>\n",
       "      <th>2075258</th>\n",
       "      <td>2010-11-26 21:02:00</td>\n",
       "      <td>0.932</td>\n",
       "      <td>0.000</td>\n",
       "      <td>239.550</td>\n",
       "      <td>3.800</td>\n",
       "      <td>0.000</td>\n",
       "      <td>0.000</td>\n",
       "      <td>0.0</td>\n",
       "    </tr>\n",
       "  </tbody>\n",
       "</table>\n",
       "<p>2075259 rows × 8 columns</p>\n",
       "</div>"
      ],
      "text/plain": [
       "                  Date_Time Global_active_power Global_reactive_power  \\\n",
       "0       2006-12-16 17:24:00               4.216                 0.418   \n",
       "1       2006-12-16 17:25:00               5.360                 0.436   \n",
       "2       2006-12-16 17:26:00               5.374                 0.498   \n",
       "3       2006-12-16 17:27:00               5.388                 0.502   \n",
       "4       2006-12-16 17:28:00               3.666                 0.528   \n",
       "...                     ...                 ...                   ...   \n",
       "2075254 2010-11-26 20:58:00               0.946                 0.000   \n",
       "2075255 2010-11-26 20:59:00               0.944                 0.000   \n",
       "2075256 2010-11-26 21:00:00               0.938                 0.000   \n",
       "2075257 2010-11-26 21:01:00               0.934                 0.000   \n",
       "2075258 2010-11-26 21:02:00               0.932                 0.000   \n",
       "\n",
       "         Voltage Global_intensity Sub_metering_1 Sub_metering_2  \\\n",
       "0        234.840           18.400          0.000          1.000   \n",
       "1        233.630           23.000          0.000          1.000   \n",
       "2        233.290           23.000          0.000          2.000   \n",
       "3        233.740           23.000          0.000          1.000   \n",
       "4        235.680           15.800          0.000          1.000   \n",
       "...          ...              ...            ...            ...   \n",
       "2075254  240.430            4.000          0.000          0.000   \n",
       "2075255  240.000            4.000          0.000          0.000   \n",
       "2075256  239.820            3.800          0.000          0.000   \n",
       "2075257  239.700            3.800          0.000          0.000   \n",
       "2075258  239.550            3.800          0.000          0.000   \n",
       "\n",
       "         Sub_metering_3  \n",
       "0                  17.0  \n",
       "1                  16.0  \n",
       "2                  17.0  \n",
       "3                  17.0  \n",
       "4                  17.0  \n",
       "...                 ...  \n",
       "2075254             0.0  \n",
       "2075255             0.0  \n",
       "2075256             0.0  \n",
       "2075257             0.0  \n",
       "2075258             0.0  \n",
       "\n",
       "[2075259 rows x 8 columns]"
      ]
     },
     "execution_count": 2,
     "metadata": {},
     "output_type": "execute_result"
    }
   ],
   "source": [
    "data = pd.read_csv('household_power_consumption.txt', sep=';',parse_dates={'Date_Time' : ['Date', 'Time']},\n",
    "                   infer_datetime_format=True,\n",
    "                   low_memory=False)\n",
    "data"
   ]
  },
  {
   "cell_type": "code",
   "execution_count": 3,
   "id": "47c0fa1a",
   "metadata": {},
   "outputs": [
    {
     "data": {
      "text/plain": [
       "Index(['Date_Time', 'Global_active_power', 'Global_reactive_power', 'Voltage',\n",
       "       'Global_intensity', 'Sub_metering_1', 'Sub_metering_2',\n",
       "       'Sub_metering_3'],\n",
       "      dtype='object')"
      ]
     },
     "execution_count": 3,
     "metadata": {},
     "output_type": "execute_result"
    }
   ],
   "source": [
    "data.columns"
   ]
  },
  {
   "cell_type": "code",
   "execution_count": 4,
   "id": "6a6e4439",
   "metadata": {},
   "outputs": [
    {
     "name": "stdout",
     "output_type": "stream",
     "text": [
      "<class 'pandas.core.frame.DataFrame'>\n",
      "RangeIndex: 2075259 entries, 0 to 2075258\n",
      "Data columns (total 8 columns):\n",
      " #   Column                 Dtype         \n",
      "---  ------                 -----         \n",
      " 0   Date_Time              datetime64[ns]\n",
      " 1   Global_active_power    object        \n",
      " 2   Global_reactive_power  object        \n",
      " 3   Voltage                object        \n",
      " 4   Global_intensity       object        \n",
      " 5   Sub_metering_1         object        \n",
      " 6   Sub_metering_2         object        \n",
      " 7   Sub_metering_3         float64       \n",
      "dtypes: datetime64[ns](1), float64(1), object(6)\n",
      "memory usage: 126.7+ MB\n"
     ]
    }
   ],
   "source": [
    "data.info()"
   ]
  },
  {
   "cell_type": "code",
   "execution_count": 5,
   "id": "f49e7724",
   "metadata": {},
   "outputs": [
    {
     "data": {
      "text/plain": [
       "Date_Time                    0\n",
       "Global_active_power          0\n",
       "Global_reactive_power        0\n",
       "Voltage                      0\n",
       "Global_intensity             0\n",
       "Sub_metering_1               0\n",
       "Sub_metering_2               0\n",
       "Sub_metering_3           25979\n",
       "dtype: int64"
      ]
     },
     "execution_count": 5,
     "metadata": {},
     "output_type": "execute_result"
    }
   ],
   "source": [
    "data.isna().sum()"
   ]
  },
  {
   "cell_type": "code",
   "execution_count": 6,
   "id": "7e8ac71a",
   "metadata": {},
   "outputs": [
    {
     "data": {
      "text/html": [
       "<div>\n",
       "<style scoped>\n",
       "    .dataframe tbody tr th:only-of-type {\n",
       "        vertical-align: middle;\n",
       "    }\n",
       "\n",
       "    .dataframe tbody tr th {\n",
       "        vertical-align: top;\n",
       "    }\n",
       "\n",
       "    .dataframe thead th {\n",
       "        text-align: right;\n",
       "    }\n",
       "</style>\n",
       "<table border=\"1\" class=\"dataframe\">\n",
       "  <thead>\n",
       "    <tr style=\"text-align: right;\">\n",
       "      <th></th>\n",
       "      <th>Date_Time</th>\n",
       "      <th>Global_active_power</th>\n",
       "      <th>Global_reactive_power</th>\n",
       "      <th>Voltage</th>\n",
       "      <th>Global_intensity</th>\n",
       "      <th>Sub_metering_1</th>\n",
       "      <th>Sub_metering_2</th>\n",
       "      <th>Sub_metering_3</th>\n",
       "    </tr>\n",
       "  </thead>\n",
       "  <tbody>\n",
       "    <tr>\n",
       "      <th>501201</th>\n",
       "      <td>2007-11-29 18:45:00</td>\n",
       "      <td>1.548</td>\n",
       "      <td>0.056</td>\n",
       "      <td>239.070</td>\n",
       "      <td>6.400</td>\n",
       "      <td>0.000</td>\n",
       "      <td>0.000</td>\n",
       "      <td>0.0</td>\n",
       "    </tr>\n",
       "    <tr>\n",
       "      <th>1900125</th>\n",
       "      <td>2010-07-28 06:09:00</td>\n",
       "      <td>0.332</td>\n",
       "      <td>0.214</td>\n",
       "      <td>241.740</td>\n",
       "      <td>1.600</td>\n",
       "      <td>0.000</td>\n",
       "      <td>0.000</td>\n",
       "      <td>1.0</td>\n",
       "    </tr>\n",
       "    <tr>\n",
       "      <th>977604</th>\n",
       "      <td>2008-10-25 14:48:00</td>\n",
       "      <td>1.294</td>\n",
       "      <td>0.062</td>\n",
       "      <td>242.550</td>\n",
       "      <td>5.200</td>\n",
       "      <td>0.000</td>\n",
       "      <td>0.000</td>\n",
       "      <td>18.0</td>\n",
       "    </tr>\n",
       "    <tr>\n",
       "      <th>1100607</th>\n",
       "      <td>2009-01-19 00:51:00</td>\n",
       "      <td>0.368</td>\n",
       "      <td>0.110</td>\n",
       "      <td>246.270</td>\n",
       "      <td>1.600</td>\n",
       "      <td>0.000</td>\n",
       "      <td>1.000</td>\n",
       "      <td>0.0</td>\n",
       "    </tr>\n",
       "    <tr>\n",
       "      <th>261161</th>\n",
       "      <td>2007-06-16 02:05:00</td>\n",
       "      <td>0.158</td>\n",
       "      <td>0.000</td>\n",
       "      <td>238.350</td>\n",
       "      <td>0.600</td>\n",
       "      <td>0.000</td>\n",
       "      <td>0.000</td>\n",
       "      <td>0.0</td>\n",
       "    </tr>\n",
       "    <tr>\n",
       "      <th>...</th>\n",
       "      <td>...</td>\n",
       "      <td>...</td>\n",
       "      <td>...</td>\n",
       "      <td>...</td>\n",
       "      <td>...</td>\n",
       "      <td>...</td>\n",
       "      <td>...</td>\n",
       "      <td>...</td>\n",
       "    </tr>\n",
       "    <tr>\n",
       "      <th>1075540</th>\n",
       "      <td>2009-01-01 15:04:00</td>\n",
       "      <td>0.330</td>\n",
       "      <td>0.088</td>\n",
       "      <td>248.540</td>\n",
       "      <td>1.400</td>\n",
       "      <td>0.000</td>\n",
       "      <td>0.000</td>\n",
       "      <td>0.0</td>\n",
       "    </tr>\n",
       "    <tr>\n",
       "      <th>120944</th>\n",
       "      <td>2007-03-10 17:08:00</td>\n",
       "      <td>0.952</td>\n",
       "      <td>0.350</td>\n",
       "      <td>240.420</td>\n",
       "      <td>4.200</td>\n",
       "      <td>0.000</td>\n",
       "      <td>0.000</td>\n",
       "      <td>0.0</td>\n",
       "    </tr>\n",
       "    <tr>\n",
       "      <th>1932498</th>\n",
       "      <td>2010-08-19 17:42:00</td>\n",
       "      <td>?</td>\n",
       "      <td>?</td>\n",
       "      <td>?</td>\n",
       "      <td>?</td>\n",
       "      <td>?</td>\n",
       "      <td>?</td>\n",
       "      <td>NaN</td>\n",
       "    </tr>\n",
       "    <tr>\n",
       "      <th>380697</th>\n",
       "      <td>2007-09-07 02:21:00</td>\n",
       "      <td>0.110</td>\n",
       "      <td>0.000</td>\n",
       "      <td>240.100</td>\n",
       "      <td>0.600</td>\n",
       "      <td>0.000</td>\n",
       "      <td>0.000</td>\n",
       "      <td>0.0</td>\n",
       "    </tr>\n",
       "    <tr>\n",
       "      <th>1979261</th>\n",
       "      <td>2010-09-21 05:05:00</td>\n",
       "      <td>0.328</td>\n",
       "      <td>0.218</td>\n",
       "      <td>240.130</td>\n",
       "      <td>1.600</td>\n",
       "      <td>0.000</td>\n",
       "      <td>1.000</td>\n",
       "      <td>0.0</td>\n",
       "    </tr>\n",
       "  </tbody>\n",
       "</table>\n",
       "<p>15000 rows × 8 columns</p>\n",
       "</div>"
      ],
      "text/plain": [
       "                  Date_Time Global_active_power Global_reactive_power  \\\n",
       "501201  2007-11-29 18:45:00               1.548                 0.056   \n",
       "1900125 2010-07-28 06:09:00               0.332                 0.214   \n",
       "977604  2008-10-25 14:48:00               1.294                 0.062   \n",
       "1100607 2009-01-19 00:51:00               0.368                 0.110   \n",
       "261161  2007-06-16 02:05:00               0.158                 0.000   \n",
       "...                     ...                 ...                   ...   \n",
       "1075540 2009-01-01 15:04:00               0.330                 0.088   \n",
       "120944  2007-03-10 17:08:00               0.952                 0.350   \n",
       "1932498 2010-08-19 17:42:00                   ?                     ?   \n",
       "380697  2007-09-07 02:21:00               0.110                 0.000   \n",
       "1979261 2010-09-21 05:05:00               0.328                 0.218   \n",
       "\n",
       "         Voltage Global_intensity Sub_metering_1 Sub_metering_2  \\\n",
       "501201   239.070            6.400          0.000          0.000   \n",
       "1900125  241.740            1.600          0.000          0.000   \n",
       "977604   242.550            5.200          0.000          0.000   \n",
       "1100607  246.270            1.600          0.000          1.000   \n",
       "261161   238.350            0.600          0.000          0.000   \n",
       "...          ...              ...            ...            ...   \n",
       "1075540  248.540            1.400          0.000          0.000   \n",
       "120944   240.420            4.200          0.000          0.000   \n",
       "1932498        ?                ?              ?              ?   \n",
       "380697   240.100            0.600          0.000          0.000   \n",
       "1979261  240.130            1.600          0.000          1.000   \n",
       "\n",
       "         Sub_metering_3  \n",
       "501201              0.0  \n",
       "1900125             1.0  \n",
       "977604             18.0  \n",
       "1100607             0.0  \n",
       "261161              0.0  \n",
       "...                 ...  \n",
       "1075540             0.0  \n",
       "120944              0.0  \n",
       "1932498             NaN  \n",
       "380697              0.0  \n",
       "1979261             0.0  \n",
       "\n",
       "[15000 rows x 8 columns]"
      ]
     },
     "execution_count": 6,
     "metadata": {},
     "output_type": "execute_result"
    }
   ],
   "source": [
    "sample_data = data.sample(n=15000)\n",
    "sample_data"
   ]
  },
  {
   "cell_type": "code",
   "execution_count": 7,
   "id": "1b5b8441",
   "metadata": {},
   "outputs": [
    {
     "data": {
      "text/plain": [
       "Date_Time                  0\n",
       "Global_active_power        0\n",
       "Global_reactive_power      0\n",
       "Voltage                    0\n",
       "Global_intensity           0\n",
       "Sub_metering_1             0\n",
       "Sub_metering_2             0\n",
       "Sub_metering_3           207\n",
       "dtype: int64"
      ]
     },
     "execution_count": 7,
     "metadata": {},
     "output_type": "execute_result"
    }
   ],
   "source": [
    "sample_data.isna().sum()"
   ]
  },
  {
   "cell_type": "code",
   "execution_count": 8,
   "id": "cfef79ff",
   "metadata": {},
   "outputs": [],
   "source": [
    "sample_data.dropna(inplace=True)"
   ]
  },
  {
   "cell_type": "code",
   "execution_count": 9,
   "id": "0ed574b7",
   "metadata": {},
   "outputs": [
    {
     "data": {
      "text/plain": [
       "0"
      ]
     },
     "execution_count": 9,
     "metadata": {},
     "output_type": "execute_result"
    }
   ],
   "source": [
    "sample_data.isna().sum().sum()"
   ]
  },
  {
   "cell_type": "code",
   "execution_count": 10,
   "id": "c6c95837",
   "metadata": {},
   "outputs": [
    {
     "name": "stdout",
     "output_type": "stream",
     "text": [
      "<class 'pandas.core.frame.DataFrame'>\n",
      "Int64Index: 14793 entries, 501201 to 1979261\n",
      "Data columns (total 8 columns):\n",
      " #   Column                 Non-Null Count  Dtype         \n",
      "---  ------                 --------------  -----         \n",
      " 0   Date_Time              14793 non-null  datetime64[ns]\n",
      " 1   Global_active_power    14793 non-null  object        \n",
      " 2   Global_reactive_power  14793 non-null  object        \n",
      " 3   Voltage                14793 non-null  object        \n",
      " 4   Global_intensity       14793 non-null  object        \n",
      " 5   Sub_metering_1         14793 non-null  object        \n",
      " 6   Sub_metering_2         14793 non-null  object        \n",
      " 7   Sub_metering_3         14793 non-null  float64       \n",
      "dtypes: datetime64[ns](1), float64(1), object(6)\n",
      "memory usage: 1.0+ MB\n"
     ]
    }
   ],
   "source": [
    "sample_data.info()"
   ]
  },
  {
   "cell_type": "code",
   "execution_count": 11,
   "id": "81bfb96d",
   "metadata": {},
   "outputs": [],
   "source": [
    "sample_data['Sub_metering_1'] = pd.to_numeric(sample_data['Sub_metering_1'],errors='coerce')\n",
    "sample_data['Sub_metering_2'] = pd.to_numeric(sample_data['Sub_metering_2'],errors='coerce')"
   ]
  },
  {
   "cell_type": "code",
   "execution_count": 12,
   "id": "5b29c1d9",
   "metadata": {},
   "outputs": [],
   "source": [
    "sample_data['year'] = sample_data['Date_Time'].dt.year\n",
    "sample_data['month'] = sample_data['Date_Time'].dt.month\n",
    "sample_data['day'] = sample_data['Date_Time'].dt.day\n",
    "sample_data['hour'] = sample_data['Date_Time'].dt.hour\n",
    "sample_data['minute'] = sample_data['Date_Time'].dt.minute"
   ]
  },
  {
   "cell_type": "code",
   "execution_count": 13,
   "id": "0c9040f5",
   "metadata": {},
   "outputs": [
    {
     "data": {
      "text/html": [
       "<div>\n",
       "<style scoped>\n",
       "    .dataframe tbody tr th:only-of-type {\n",
       "        vertical-align: middle;\n",
       "    }\n",
       "\n",
       "    .dataframe tbody tr th {\n",
       "        vertical-align: top;\n",
       "    }\n",
       "\n",
       "    .dataframe thead th {\n",
       "        text-align: right;\n",
       "    }\n",
       "</style>\n",
       "<table border=\"1\" class=\"dataframe\">\n",
       "  <thead>\n",
       "    <tr style=\"text-align: right;\">\n",
       "      <th></th>\n",
       "      <th>Date_Time</th>\n",
       "      <th>Global_active_power</th>\n",
       "      <th>Global_reactive_power</th>\n",
       "      <th>Voltage</th>\n",
       "      <th>Global_intensity</th>\n",
       "      <th>Sub_metering_1</th>\n",
       "      <th>Sub_metering_2</th>\n",
       "      <th>Sub_metering_3</th>\n",
       "      <th>year</th>\n",
       "      <th>month</th>\n",
       "      <th>day</th>\n",
       "      <th>hour</th>\n",
       "      <th>minute</th>\n",
       "    </tr>\n",
       "  </thead>\n",
       "  <tbody>\n",
       "    <tr>\n",
       "      <th>501201</th>\n",
       "      <td>2007-11-29 18:45:00</td>\n",
       "      <td>1.548</td>\n",
       "      <td>0.056</td>\n",
       "      <td>239.070</td>\n",
       "      <td>6.400</td>\n",
       "      <td>0.0</td>\n",
       "      <td>0.0</td>\n",
       "      <td>0.0</td>\n",
       "      <td>2007</td>\n",
       "      <td>11</td>\n",
       "      <td>29</td>\n",
       "      <td>18</td>\n",
       "      <td>45</td>\n",
       "    </tr>\n",
       "    <tr>\n",
       "      <th>1900125</th>\n",
       "      <td>2010-07-28 06:09:00</td>\n",
       "      <td>0.332</td>\n",
       "      <td>0.214</td>\n",
       "      <td>241.740</td>\n",
       "      <td>1.600</td>\n",
       "      <td>0.0</td>\n",
       "      <td>0.0</td>\n",
       "      <td>1.0</td>\n",
       "      <td>2010</td>\n",
       "      <td>7</td>\n",
       "      <td>28</td>\n",
       "      <td>6</td>\n",
       "      <td>9</td>\n",
       "    </tr>\n",
       "    <tr>\n",
       "      <th>977604</th>\n",
       "      <td>2008-10-25 14:48:00</td>\n",
       "      <td>1.294</td>\n",
       "      <td>0.062</td>\n",
       "      <td>242.550</td>\n",
       "      <td>5.200</td>\n",
       "      <td>0.0</td>\n",
       "      <td>0.0</td>\n",
       "      <td>18.0</td>\n",
       "      <td>2008</td>\n",
       "      <td>10</td>\n",
       "      <td>25</td>\n",
       "      <td>14</td>\n",
       "      <td>48</td>\n",
       "    </tr>\n",
       "    <tr>\n",
       "      <th>1100607</th>\n",
       "      <td>2009-01-19 00:51:00</td>\n",
       "      <td>0.368</td>\n",
       "      <td>0.110</td>\n",
       "      <td>246.270</td>\n",
       "      <td>1.600</td>\n",
       "      <td>0.0</td>\n",
       "      <td>1.0</td>\n",
       "      <td>0.0</td>\n",
       "      <td>2009</td>\n",
       "      <td>1</td>\n",
       "      <td>19</td>\n",
       "      <td>0</td>\n",
       "      <td>51</td>\n",
       "    </tr>\n",
       "    <tr>\n",
       "      <th>261161</th>\n",
       "      <td>2007-06-16 02:05:00</td>\n",
       "      <td>0.158</td>\n",
       "      <td>0.000</td>\n",
       "      <td>238.350</td>\n",
       "      <td>0.600</td>\n",
       "      <td>0.0</td>\n",
       "      <td>0.0</td>\n",
       "      <td>0.0</td>\n",
       "      <td>2007</td>\n",
       "      <td>6</td>\n",
       "      <td>16</td>\n",
       "      <td>2</td>\n",
       "      <td>5</td>\n",
       "    </tr>\n",
       "    <tr>\n",
       "      <th>...</th>\n",
       "      <td>...</td>\n",
       "      <td>...</td>\n",
       "      <td>...</td>\n",
       "      <td>...</td>\n",
       "      <td>...</td>\n",
       "      <td>...</td>\n",
       "      <td>...</td>\n",
       "      <td>...</td>\n",
       "      <td>...</td>\n",
       "      <td>...</td>\n",
       "      <td>...</td>\n",
       "      <td>...</td>\n",
       "      <td>...</td>\n",
       "    </tr>\n",
       "    <tr>\n",
       "      <th>980247</th>\n",
       "      <td>2008-10-27 10:51:00</td>\n",
       "      <td>0.208</td>\n",
       "      <td>0.052</td>\n",
       "      <td>242.470</td>\n",
       "      <td>0.800</td>\n",
       "      <td>0.0</td>\n",
       "      <td>0.0</td>\n",
       "      <td>0.0</td>\n",
       "      <td>2008</td>\n",
       "      <td>10</td>\n",
       "      <td>27</td>\n",
       "      <td>10</td>\n",
       "      <td>51</td>\n",
       "    </tr>\n",
       "    <tr>\n",
       "      <th>1075540</th>\n",
       "      <td>2009-01-01 15:04:00</td>\n",
       "      <td>0.330</td>\n",
       "      <td>0.088</td>\n",
       "      <td>248.540</td>\n",
       "      <td>1.400</td>\n",
       "      <td>0.0</td>\n",
       "      <td>0.0</td>\n",
       "      <td>0.0</td>\n",
       "      <td>2009</td>\n",
       "      <td>1</td>\n",
       "      <td>1</td>\n",
       "      <td>15</td>\n",
       "      <td>4</td>\n",
       "    </tr>\n",
       "    <tr>\n",
       "      <th>120944</th>\n",
       "      <td>2007-03-10 17:08:00</td>\n",
       "      <td>0.952</td>\n",
       "      <td>0.350</td>\n",
       "      <td>240.420</td>\n",
       "      <td>4.200</td>\n",
       "      <td>0.0</td>\n",
       "      <td>0.0</td>\n",
       "      <td>0.0</td>\n",
       "      <td>2007</td>\n",
       "      <td>3</td>\n",
       "      <td>10</td>\n",
       "      <td>17</td>\n",
       "      <td>8</td>\n",
       "    </tr>\n",
       "    <tr>\n",
       "      <th>380697</th>\n",
       "      <td>2007-09-07 02:21:00</td>\n",
       "      <td>0.110</td>\n",
       "      <td>0.000</td>\n",
       "      <td>240.100</td>\n",
       "      <td>0.600</td>\n",
       "      <td>0.0</td>\n",
       "      <td>0.0</td>\n",
       "      <td>0.0</td>\n",
       "      <td>2007</td>\n",
       "      <td>9</td>\n",
       "      <td>7</td>\n",
       "      <td>2</td>\n",
       "      <td>21</td>\n",
       "    </tr>\n",
       "    <tr>\n",
       "      <th>1979261</th>\n",
       "      <td>2010-09-21 05:05:00</td>\n",
       "      <td>0.328</td>\n",
       "      <td>0.218</td>\n",
       "      <td>240.130</td>\n",
       "      <td>1.600</td>\n",
       "      <td>0.0</td>\n",
       "      <td>1.0</td>\n",
       "      <td>0.0</td>\n",
       "      <td>2010</td>\n",
       "      <td>9</td>\n",
       "      <td>21</td>\n",
       "      <td>5</td>\n",
       "      <td>5</td>\n",
       "    </tr>\n",
       "  </tbody>\n",
       "</table>\n",
       "<p>14793 rows × 13 columns</p>\n",
       "</div>"
      ],
      "text/plain": [
       "                  Date_Time Global_active_power Global_reactive_power  \\\n",
       "501201  2007-11-29 18:45:00               1.548                 0.056   \n",
       "1900125 2010-07-28 06:09:00               0.332                 0.214   \n",
       "977604  2008-10-25 14:48:00               1.294                 0.062   \n",
       "1100607 2009-01-19 00:51:00               0.368                 0.110   \n",
       "261161  2007-06-16 02:05:00               0.158                 0.000   \n",
       "...                     ...                 ...                   ...   \n",
       "980247  2008-10-27 10:51:00               0.208                 0.052   \n",
       "1075540 2009-01-01 15:04:00               0.330                 0.088   \n",
       "120944  2007-03-10 17:08:00               0.952                 0.350   \n",
       "380697  2007-09-07 02:21:00               0.110                 0.000   \n",
       "1979261 2010-09-21 05:05:00               0.328                 0.218   \n",
       "\n",
       "         Voltage Global_intensity  Sub_metering_1  Sub_metering_2  \\\n",
       "501201   239.070            6.400             0.0             0.0   \n",
       "1900125  241.740            1.600             0.0             0.0   \n",
       "977604   242.550            5.200             0.0             0.0   \n",
       "1100607  246.270            1.600             0.0             1.0   \n",
       "261161   238.350            0.600             0.0             0.0   \n",
       "...          ...              ...             ...             ...   \n",
       "980247   242.470            0.800             0.0             0.0   \n",
       "1075540  248.540            1.400             0.0             0.0   \n",
       "120944   240.420            4.200             0.0             0.0   \n",
       "380697   240.100            0.600             0.0             0.0   \n",
       "1979261  240.130            1.600             0.0             1.0   \n",
       "\n",
       "         Sub_metering_3  year  month  day  hour  minute  \n",
       "501201              0.0  2007     11   29    18      45  \n",
       "1900125             1.0  2010      7   28     6       9  \n",
       "977604             18.0  2008     10   25    14      48  \n",
       "1100607             0.0  2009      1   19     0      51  \n",
       "261161              0.0  2007      6   16     2       5  \n",
       "...                 ...   ...    ...  ...   ...     ...  \n",
       "980247              0.0  2008     10   27    10      51  \n",
       "1075540             0.0  2009      1    1    15       4  \n",
       "120944              0.0  2007      3   10    17       8  \n",
       "380697              0.0  2007      9    7     2      21  \n",
       "1979261             0.0  2010      9   21     5       5  \n",
       "\n",
       "[14793 rows x 13 columns]"
      ]
     },
     "execution_count": 13,
     "metadata": {},
     "output_type": "execute_result"
    }
   ],
   "source": [
    "sample_data"
   ]
  },
  {
   "cell_type": "code",
   "execution_count": 14,
   "id": "1fd1e228",
   "metadata": {},
   "outputs": [],
   "source": [
    "sample_data[\"total_energy\"] = sample_data['Sub_metering_1']+sample_data['Sub_metering_2']+sample_data['Sub_metering_3']"
   ]
  },
  {
   "cell_type": "code",
   "execution_count": 15,
   "id": "8116fdc3",
   "metadata": {},
   "outputs": [
    {
     "data": {
      "text/html": [
       "<div>\n",
       "<style scoped>\n",
       "    .dataframe tbody tr th:only-of-type {\n",
       "        vertical-align: middle;\n",
       "    }\n",
       "\n",
       "    .dataframe tbody tr th {\n",
       "        vertical-align: top;\n",
       "    }\n",
       "\n",
       "    .dataframe thead th {\n",
       "        text-align: right;\n",
       "    }\n",
       "</style>\n",
       "<table border=\"1\" class=\"dataframe\">\n",
       "  <thead>\n",
       "    <tr style=\"text-align: right;\">\n",
       "      <th></th>\n",
       "      <th>Date_Time</th>\n",
       "      <th>Global_active_power</th>\n",
       "      <th>Global_reactive_power</th>\n",
       "      <th>Voltage</th>\n",
       "      <th>Global_intensity</th>\n",
       "      <th>Sub_metering_1</th>\n",
       "      <th>Sub_metering_2</th>\n",
       "      <th>Sub_metering_3</th>\n",
       "      <th>year</th>\n",
       "      <th>month</th>\n",
       "      <th>day</th>\n",
       "      <th>hour</th>\n",
       "      <th>minute</th>\n",
       "      <th>total_energy</th>\n",
       "    </tr>\n",
       "  </thead>\n",
       "  <tbody>\n",
       "    <tr>\n",
       "      <th>501201</th>\n",
       "      <td>2007-11-29 18:45:00</td>\n",
       "      <td>1.548</td>\n",
       "      <td>0.056</td>\n",
       "      <td>239.070</td>\n",
       "      <td>6.400</td>\n",
       "      <td>0.0</td>\n",
       "      <td>0.0</td>\n",
       "      <td>0.0</td>\n",
       "      <td>2007</td>\n",
       "      <td>11</td>\n",
       "      <td>29</td>\n",
       "      <td>18</td>\n",
       "      <td>45</td>\n",
       "      <td>0.0</td>\n",
       "    </tr>\n",
       "    <tr>\n",
       "      <th>1900125</th>\n",
       "      <td>2010-07-28 06:09:00</td>\n",
       "      <td>0.332</td>\n",
       "      <td>0.214</td>\n",
       "      <td>241.740</td>\n",
       "      <td>1.600</td>\n",
       "      <td>0.0</td>\n",
       "      <td>0.0</td>\n",
       "      <td>1.0</td>\n",
       "      <td>2010</td>\n",
       "      <td>7</td>\n",
       "      <td>28</td>\n",
       "      <td>6</td>\n",
       "      <td>9</td>\n",
       "      <td>1.0</td>\n",
       "    </tr>\n",
       "    <tr>\n",
       "      <th>977604</th>\n",
       "      <td>2008-10-25 14:48:00</td>\n",
       "      <td>1.294</td>\n",
       "      <td>0.062</td>\n",
       "      <td>242.550</td>\n",
       "      <td>5.200</td>\n",
       "      <td>0.0</td>\n",
       "      <td>0.0</td>\n",
       "      <td>18.0</td>\n",
       "      <td>2008</td>\n",
       "      <td>10</td>\n",
       "      <td>25</td>\n",
       "      <td>14</td>\n",
       "      <td>48</td>\n",
       "      <td>18.0</td>\n",
       "    </tr>\n",
       "    <tr>\n",
       "      <th>1100607</th>\n",
       "      <td>2009-01-19 00:51:00</td>\n",
       "      <td>0.368</td>\n",
       "      <td>0.110</td>\n",
       "      <td>246.270</td>\n",
       "      <td>1.600</td>\n",
       "      <td>0.0</td>\n",
       "      <td>1.0</td>\n",
       "      <td>0.0</td>\n",
       "      <td>2009</td>\n",
       "      <td>1</td>\n",
       "      <td>19</td>\n",
       "      <td>0</td>\n",
       "      <td>51</td>\n",
       "      <td>1.0</td>\n",
       "    </tr>\n",
       "    <tr>\n",
       "      <th>261161</th>\n",
       "      <td>2007-06-16 02:05:00</td>\n",
       "      <td>0.158</td>\n",
       "      <td>0.000</td>\n",
       "      <td>238.350</td>\n",
       "      <td>0.600</td>\n",
       "      <td>0.0</td>\n",
       "      <td>0.0</td>\n",
       "      <td>0.0</td>\n",
       "      <td>2007</td>\n",
       "      <td>6</td>\n",
       "      <td>16</td>\n",
       "      <td>2</td>\n",
       "      <td>5</td>\n",
       "      <td>0.0</td>\n",
       "    </tr>\n",
       "  </tbody>\n",
       "</table>\n",
       "</div>"
      ],
      "text/plain": [
       "                  Date_Time Global_active_power Global_reactive_power  \\\n",
       "501201  2007-11-29 18:45:00               1.548                 0.056   \n",
       "1900125 2010-07-28 06:09:00               0.332                 0.214   \n",
       "977604  2008-10-25 14:48:00               1.294                 0.062   \n",
       "1100607 2009-01-19 00:51:00               0.368                 0.110   \n",
       "261161  2007-06-16 02:05:00               0.158                 0.000   \n",
       "\n",
       "         Voltage Global_intensity  Sub_metering_1  Sub_metering_2  \\\n",
       "501201   239.070            6.400             0.0             0.0   \n",
       "1900125  241.740            1.600             0.0             0.0   \n",
       "977604   242.550            5.200             0.0             0.0   \n",
       "1100607  246.270            1.600             0.0             1.0   \n",
       "261161   238.350            0.600             0.0             0.0   \n",
       "\n",
       "         Sub_metering_3  year  month  day  hour  minute  total_energy  \n",
       "501201              0.0  2007     11   29    18      45           0.0  \n",
       "1900125             1.0  2010      7   28     6       9           1.0  \n",
       "977604             18.0  2008     10   25    14      48          18.0  \n",
       "1100607             0.0  2009      1   19     0      51           1.0  \n",
       "261161              0.0  2007      6   16     2       5           0.0  "
      ]
     },
     "execution_count": 15,
     "metadata": {},
     "output_type": "execute_result"
    }
   ],
   "source": [
    "sample_data.head()"
   ]
  },
  {
   "cell_type": "code",
   "execution_count": 16,
   "id": "843896c3",
   "metadata": {},
   "outputs": [],
   "source": [
    "sample_data.drop(['Sub_metering_1', 'Sub_metering_2','Sub_metering_3'], axis=1,inplace=True)"
   ]
  },
  {
   "cell_type": "code",
   "execution_count": 17,
   "id": "e60bd416",
   "metadata": {},
   "outputs": [],
   "source": [
    "sample_data.drop(['Date_Time'], axis=1,inplace=True)"
   ]
  },
  {
   "cell_type": "code",
   "execution_count": 18,
   "id": "01f8babc",
   "metadata": {},
   "outputs": [
    {
     "data": {
      "text/html": [
       "<div>\n",
       "<style scoped>\n",
       "    .dataframe tbody tr th:only-of-type {\n",
       "        vertical-align: middle;\n",
       "    }\n",
       "\n",
       "    .dataframe tbody tr th {\n",
       "        vertical-align: top;\n",
       "    }\n",
       "\n",
       "    .dataframe thead th {\n",
       "        text-align: right;\n",
       "    }\n",
       "</style>\n",
       "<table border=\"1\" class=\"dataframe\">\n",
       "  <thead>\n",
       "    <tr style=\"text-align: right;\">\n",
       "      <th></th>\n",
       "      <th>Global_active_power</th>\n",
       "      <th>Global_reactive_power</th>\n",
       "      <th>Voltage</th>\n",
       "      <th>Global_intensity</th>\n",
       "      <th>year</th>\n",
       "      <th>month</th>\n",
       "      <th>day</th>\n",
       "      <th>hour</th>\n",
       "      <th>minute</th>\n",
       "      <th>total_energy</th>\n",
       "    </tr>\n",
       "  </thead>\n",
       "  <tbody>\n",
       "    <tr>\n",
       "      <th>501201</th>\n",
       "      <td>1.548</td>\n",
       "      <td>0.056</td>\n",
       "      <td>239.070</td>\n",
       "      <td>6.400</td>\n",
       "      <td>2007</td>\n",
       "      <td>11</td>\n",
       "      <td>29</td>\n",
       "      <td>18</td>\n",
       "      <td>45</td>\n",
       "      <td>0.0</td>\n",
       "    </tr>\n",
       "    <tr>\n",
       "      <th>1900125</th>\n",
       "      <td>0.332</td>\n",
       "      <td>0.214</td>\n",
       "      <td>241.740</td>\n",
       "      <td>1.600</td>\n",
       "      <td>2010</td>\n",
       "      <td>7</td>\n",
       "      <td>28</td>\n",
       "      <td>6</td>\n",
       "      <td>9</td>\n",
       "      <td>1.0</td>\n",
       "    </tr>\n",
       "    <tr>\n",
       "      <th>977604</th>\n",
       "      <td>1.294</td>\n",
       "      <td>0.062</td>\n",
       "      <td>242.550</td>\n",
       "      <td>5.200</td>\n",
       "      <td>2008</td>\n",
       "      <td>10</td>\n",
       "      <td>25</td>\n",
       "      <td>14</td>\n",
       "      <td>48</td>\n",
       "      <td>18.0</td>\n",
       "    </tr>\n",
       "    <tr>\n",
       "      <th>1100607</th>\n",
       "      <td>0.368</td>\n",
       "      <td>0.110</td>\n",
       "      <td>246.270</td>\n",
       "      <td>1.600</td>\n",
       "      <td>2009</td>\n",
       "      <td>1</td>\n",
       "      <td>19</td>\n",
       "      <td>0</td>\n",
       "      <td>51</td>\n",
       "      <td>1.0</td>\n",
       "    </tr>\n",
       "    <tr>\n",
       "      <th>261161</th>\n",
       "      <td>0.158</td>\n",
       "      <td>0.000</td>\n",
       "      <td>238.350</td>\n",
       "      <td>0.600</td>\n",
       "      <td>2007</td>\n",
       "      <td>6</td>\n",
       "      <td>16</td>\n",
       "      <td>2</td>\n",
       "      <td>5</td>\n",
       "      <td>0.0</td>\n",
       "    </tr>\n",
       "  </tbody>\n",
       "</table>\n",
       "</div>"
      ],
      "text/plain": [
       "        Global_active_power Global_reactive_power  Voltage Global_intensity  \\\n",
       "501201                1.548                 0.056  239.070            6.400   \n",
       "1900125               0.332                 0.214  241.740            1.600   \n",
       "977604                1.294                 0.062  242.550            5.200   \n",
       "1100607               0.368                 0.110  246.270            1.600   \n",
       "261161                0.158                 0.000  238.350            0.600   \n",
       "\n",
       "         year  month  day  hour  minute  total_energy  \n",
       "501201   2007     11   29    18      45           0.0  \n",
       "1900125  2010      7   28     6       9           1.0  \n",
       "977604   2008     10   25    14      48          18.0  \n",
       "1100607  2009      1   19     0      51           1.0  \n",
       "261161   2007      6   16     2       5           0.0  "
      ]
     },
     "execution_count": 18,
     "metadata": {},
     "output_type": "execute_result"
    }
   ],
   "source": [
    "sample_data.head()"
   ]
  },
  {
   "cell_type": "code",
   "execution_count": 19,
   "id": "c6a6e8c9",
   "metadata": {},
   "outputs": [],
   "source": [
    "X = sample_data.iloc[:,:-1] # taking all the features in to X variable except the last feature that is total_energy\n",
    "y = sample_data.iloc[:,-1] # taking all the data point of the total_energy column"
   ]
  },
  {
   "cell_type": "code",
   "execution_count": 20,
   "id": "1ae1b1f7",
   "metadata": {},
   "outputs": [
    {
     "data": {
      "text/html": [
       "<div>\n",
       "<style scoped>\n",
       "    .dataframe tbody tr th:only-of-type {\n",
       "        vertical-align: middle;\n",
       "    }\n",
       "\n",
       "    .dataframe tbody tr th {\n",
       "        vertical-align: top;\n",
       "    }\n",
       "\n",
       "    .dataframe thead th {\n",
       "        text-align: right;\n",
       "    }\n",
       "</style>\n",
       "<table border=\"1\" class=\"dataframe\">\n",
       "  <thead>\n",
       "    <tr style=\"text-align: right;\">\n",
       "      <th></th>\n",
       "      <th>Global_active_power</th>\n",
       "      <th>Global_reactive_power</th>\n",
       "      <th>Voltage</th>\n",
       "      <th>Global_intensity</th>\n",
       "      <th>year</th>\n",
       "      <th>month</th>\n",
       "      <th>day</th>\n",
       "      <th>hour</th>\n",
       "      <th>minute</th>\n",
       "    </tr>\n",
       "  </thead>\n",
       "  <tbody>\n",
       "    <tr>\n",
       "      <th>501201</th>\n",
       "      <td>1.548</td>\n",
       "      <td>0.056</td>\n",
       "      <td>239.070</td>\n",
       "      <td>6.400</td>\n",
       "      <td>2007</td>\n",
       "      <td>11</td>\n",
       "      <td>29</td>\n",
       "      <td>18</td>\n",
       "      <td>45</td>\n",
       "    </tr>\n",
       "    <tr>\n",
       "      <th>1900125</th>\n",
       "      <td>0.332</td>\n",
       "      <td>0.214</td>\n",
       "      <td>241.740</td>\n",
       "      <td>1.600</td>\n",
       "      <td>2010</td>\n",
       "      <td>7</td>\n",
       "      <td>28</td>\n",
       "      <td>6</td>\n",
       "      <td>9</td>\n",
       "    </tr>\n",
       "    <tr>\n",
       "      <th>977604</th>\n",
       "      <td>1.294</td>\n",
       "      <td>0.062</td>\n",
       "      <td>242.550</td>\n",
       "      <td>5.200</td>\n",
       "      <td>2008</td>\n",
       "      <td>10</td>\n",
       "      <td>25</td>\n",
       "      <td>14</td>\n",
       "      <td>48</td>\n",
       "    </tr>\n",
       "    <tr>\n",
       "      <th>1100607</th>\n",
       "      <td>0.368</td>\n",
       "      <td>0.110</td>\n",
       "      <td>246.270</td>\n",
       "      <td>1.600</td>\n",
       "      <td>2009</td>\n",
       "      <td>1</td>\n",
       "      <td>19</td>\n",
       "      <td>0</td>\n",
       "      <td>51</td>\n",
       "    </tr>\n",
       "    <tr>\n",
       "      <th>261161</th>\n",
       "      <td>0.158</td>\n",
       "      <td>0.000</td>\n",
       "      <td>238.350</td>\n",
       "      <td>0.600</td>\n",
       "      <td>2007</td>\n",
       "      <td>6</td>\n",
       "      <td>16</td>\n",
       "      <td>2</td>\n",
       "      <td>5</td>\n",
       "    </tr>\n",
       "    <tr>\n",
       "      <th>...</th>\n",
       "      <td>...</td>\n",
       "      <td>...</td>\n",
       "      <td>...</td>\n",
       "      <td>...</td>\n",
       "      <td>...</td>\n",
       "      <td>...</td>\n",
       "      <td>...</td>\n",
       "      <td>...</td>\n",
       "      <td>...</td>\n",
       "    </tr>\n",
       "    <tr>\n",
       "      <th>980247</th>\n",
       "      <td>0.208</td>\n",
       "      <td>0.052</td>\n",
       "      <td>242.470</td>\n",
       "      <td>0.800</td>\n",
       "      <td>2008</td>\n",
       "      <td>10</td>\n",
       "      <td>27</td>\n",
       "      <td>10</td>\n",
       "      <td>51</td>\n",
       "    </tr>\n",
       "    <tr>\n",
       "      <th>1075540</th>\n",
       "      <td>0.330</td>\n",
       "      <td>0.088</td>\n",
       "      <td>248.540</td>\n",
       "      <td>1.400</td>\n",
       "      <td>2009</td>\n",
       "      <td>1</td>\n",
       "      <td>1</td>\n",
       "      <td>15</td>\n",
       "      <td>4</td>\n",
       "    </tr>\n",
       "    <tr>\n",
       "      <th>120944</th>\n",
       "      <td>0.952</td>\n",
       "      <td>0.350</td>\n",
       "      <td>240.420</td>\n",
       "      <td>4.200</td>\n",
       "      <td>2007</td>\n",
       "      <td>3</td>\n",
       "      <td>10</td>\n",
       "      <td>17</td>\n",
       "      <td>8</td>\n",
       "    </tr>\n",
       "    <tr>\n",
       "      <th>380697</th>\n",
       "      <td>0.110</td>\n",
       "      <td>0.000</td>\n",
       "      <td>240.100</td>\n",
       "      <td>0.600</td>\n",
       "      <td>2007</td>\n",
       "      <td>9</td>\n",
       "      <td>7</td>\n",
       "      <td>2</td>\n",
       "      <td>21</td>\n",
       "    </tr>\n",
       "    <tr>\n",
       "      <th>1979261</th>\n",
       "      <td>0.328</td>\n",
       "      <td>0.218</td>\n",
       "      <td>240.130</td>\n",
       "      <td>1.600</td>\n",
       "      <td>2010</td>\n",
       "      <td>9</td>\n",
       "      <td>21</td>\n",
       "      <td>5</td>\n",
       "      <td>5</td>\n",
       "    </tr>\n",
       "  </tbody>\n",
       "</table>\n",
       "<p>14793 rows × 9 columns</p>\n",
       "</div>"
      ],
      "text/plain": [
       "        Global_active_power Global_reactive_power  Voltage Global_intensity  \\\n",
       "501201                1.548                 0.056  239.070            6.400   \n",
       "1900125               0.332                 0.214  241.740            1.600   \n",
       "977604                1.294                 0.062  242.550            5.200   \n",
       "1100607               0.368                 0.110  246.270            1.600   \n",
       "261161                0.158                 0.000  238.350            0.600   \n",
       "...                     ...                   ...      ...              ...   \n",
       "980247                0.208                 0.052  242.470            0.800   \n",
       "1075540               0.330                 0.088  248.540            1.400   \n",
       "120944                0.952                 0.350  240.420            4.200   \n",
       "380697                0.110                 0.000  240.100            0.600   \n",
       "1979261               0.328                 0.218  240.130            1.600   \n",
       "\n",
       "         year  month  day  hour  minute  \n",
       "501201   2007     11   29    18      45  \n",
       "1900125  2010      7   28     6       9  \n",
       "977604   2008     10   25    14      48  \n",
       "1100607  2009      1   19     0      51  \n",
       "261161   2007      6   16     2       5  \n",
       "...       ...    ...  ...   ...     ...  \n",
       "980247   2008     10   27    10      51  \n",
       "1075540  2009      1    1    15       4  \n",
       "120944   2007      3   10    17       8  \n",
       "380697   2007      9    7     2      21  \n",
       "1979261  2010      9   21     5       5  \n",
       "\n",
       "[14793 rows x 9 columns]"
      ]
     },
     "execution_count": 20,
     "metadata": {},
     "output_type": "execute_result"
    }
   ],
   "source": [
    "X"
   ]
  },
  {
   "cell_type": "code",
   "execution_count": 21,
   "id": "17ac65a6",
   "metadata": {},
   "outputs": [
    {
     "data": {
      "text/plain": [
       "501201      0.0\n",
       "1900125     1.0\n",
       "977604     18.0\n",
       "1100607     1.0\n",
       "261161      0.0\n",
       "           ... \n",
       "980247      0.0\n",
       "1075540     0.0\n",
       "120944      0.0\n",
       "380697      0.0\n",
       "1979261     1.0\n",
       "Name: total_energy, Length: 14793, dtype: float64"
      ]
     },
     "execution_count": 21,
     "metadata": {},
     "output_type": "execute_result"
    }
   ],
   "source": [
    "y"
   ]
  },
  {
   "cell_type": "markdown",
   "id": "fbabcbf1",
   "metadata": {},
   "source": [
    "### Train Test Split"
   ]
  },
  {
   "cell_type": "code",
   "execution_count": 24,
   "id": "43297ad4",
   "metadata": {},
   "outputs": [],
   "source": [
    "from sklearn.model_selection import train_test_split\n",
    "X_train, X_test, y_train, y_test = train_test_split(X, y, test_size=0.33, random_state=42)"
   ]
  },
  {
   "cell_type": "markdown",
   "id": "ee416a39",
   "metadata": {},
   "source": [
    "### Standard Scalling "
   ]
  },
  {
   "cell_type": "code",
   "execution_count": 26,
   "id": "fa3cabcf",
   "metadata": {},
   "outputs": [],
   "source": [
    "from sklearn.preprocessing import StandardScaler\n",
    "scaler = StandardScaler()"
   ]
  },
  {
   "cell_type": "code",
   "execution_count": 27,
   "id": "e8aa04c9",
   "metadata": {},
   "outputs": [],
   "source": [
    "X_train = scaler.fit_transform(X_train)\n",
    "X_test = scaler.transform(X_test)"
   ]
  },
  {
   "cell_type": "markdown",
   "id": "d55a9f69",
   "metadata": {},
   "source": [
    "### Bagging Regressor"
   ]
  },
  {
   "cell_type": "code",
   "execution_count": 28,
   "id": "7a8d4dd1",
   "metadata": {},
   "outputs": [],
   "source": [
    "from sklearn.svm import SVR\n",
    "from sklearn.ensemble import BaggingRegressor\n",
    "bag_regr = BaggingRegressor(base_estimator=SVR(),n_estimators=10, random_state=0)"
   ]
  },
  {
   "cell_type": "code",
   "execution_count": 29,
   "id": "db024efc",
   "metadata": {},
   "outputs": [
    {
     "data": {
      "text/plain": [
       "BaggingRegressor(base_estimator=SVR(), random_state=0)"
      ]
     },
     "execution_count": 29,
     "metadata": {},
     "output_type": "execute_result"
    }
   ],
   "source": [
    "bag_regr.fit(X_train,y_train)"
   ]
  },
  {
   "cell_type": "code",
   "execution_count": 30,
   "id": "9803b789",
   "metadata": {},
   "outputs": [],
   "source": [
    "bag_regr_predict = bag_regr.predict(X_test)"
   ]
  },
  {
   "cell_type": "code",
   "execution_count": 31,
   "id": "d0b2db16",
   "metadata": {},
   "outputs": [
    {
     "data": {
      "text/plain": [
       "array([10.51248835, 23.13512895, 15.89158993, ..., 20.30156649,\n",
       "        2.33189905, -0.58409162])"
      ]
     },
     "execution_count": 31,
     "metadata": {},
     "output_type": "execute_result"
    }
   ],
   "source": [
    "bag_regr_predict"
   ]
  },
  {
   "cell_type": "code",
   "execution_count": 32,
   "id": "83057d0e",
   "metadata": {},
   "outputs": [
    {
     "name": "stdout",
     "output_type": "stream",
     "text": [
      "0.6828399917912038\n"
     ]
    }
   ],
   "source": [
    "from sklearn.metrics import r2_score\n",
    "score=r2_score(y_test,bag_regr_predict)\n",
    "print(score)"
   ]
  },
  {
   "cell_type": "markdown",
   "id": "83f4a00e",
   "metadata": {},
   "source": [
    "### Extra Tree Regressor"
   ]
  },
  {
   "cell_type": "code",
   "execution_count": 35,
   "id": "ae7696ed",
   "metadata": {},
   "outputs": [],
   "source": [
    "from sklearn.ensemble import ExtraTreesRegressor\n",
    "extra_tree_reg = ExtraTreesRegressor(n_estimators=100, random_state=0)"
   ]
  },
  {
   "cell_type": "code",
   "execution_count": 36,
   "id": "87985361",
   "metadata": {},
   "outputs": [
    {
     "data": {
      "text/plain": [
       "ExtraTreesRegressor(random_state=0)"
      ]
     },
     "execution_count": 36,
     "metadata": {},
     "output_type": "execute_result"
    }
   ],
   "source": [
    "extra_tree_reg.fit(X_train,y_train)"
   ]
  },
  {
   "cell_type": "code",
   "execution_count": 37,
   "id": "762db907",
   "metadata": {},
   "outputs": [],
   "source": [
    "Extra_tree_predict=extra_tree_reg.predict(X_test)"
   ]
  },
  {
   "cell_type": "code",
   "execution_count": 38,
   "id": "5dbe77a4",
   "metadata": {},
   "outputs": [
    {
     "data": {
      "text/plain": [
       "array([ 5.01, 19.01, 18.79, ..., 18.52,  0.7 ,  0.  ])"
      ]
     },
     "execution_count": 38,
     "metadata": {},
     "output_type": "execute_result"
    }
   ],
   "source": [
    "Extra_tree_predict"
   ]
  },
  {
   "cell_type": "code",
   "execution_count": 39,
   "id": "445057e6",
   "metadata": {},
   "outputs": [
    {
     "name": "stdout",
     "output_type": "stream",
     "text": [
      "0.8420969275325114\n"
     ]
    }
   ],
   "source": [
    "from sklearn.metrics import r2_score\n",
    "score=r2_score(y_test,Extra_tree_predict)\n",
    "print(score)"
   ]
  },
  {
   "cell_type": "code",
   "execution_count": null,
   "id": "0f9b88d3",
   "metadata": {},
   "outputs": [],
   "source": []
  },
  {
   "cell_type": "code",
   "execution_count": 40,
   "id": "3d50c83b",
   "metadata": {},
   "outputs": [],
   "source": [
    "from sklearn.linear_model import LinearRegression\n",
    "from sklearn.ensemble import RandomForestRegressor\n",
    "from sklearn.ensemble import VotingRegressor\n",
    "from sklearn.neighbors import KNeighborsRegressor\n",
    "r1 = LinearRegression()\n",
    "r2 = RandomForestRegressor(n_estimators=10, random_state=1)\n",
    "r3 = KNeighborsRegressor()"
   ]
  },
  {
   "cell_type": "code",
   "execution_count": 41,
   "id": "ae149443",
   "metadata": {},
   "outputs": [],
   "source": [
    "voting_regr = VotingRegressor([('lr', r1), ('rf', r2), ('r3', r3)])"
   ]
  },
  {
   "cell_type": "code",
   "execution_count": 42,
   "id": "5a68dd7d",
   "metadata": {},
   "outputs": [
    {
     "data": {
      "text/plain": [
       "VotingRegressor(estimators=[('lr', LinearRegression()),\n",
       "                            ('rf',\n",
       "                             RandomForestRegressor(n_estimators=10,\n",
       "                                                   random_state=1)),\n",
       "                            ('r3', KNeighborsRegressor())])"
      ]
     },
     "execution_count": 42,
     "metadata": {},
     "output_type": "execute_result"
    }
   ],
   "source": [
    "voting_regr.fit(X_train,y_train)"
   ]
  },
  {
   "cell_type": "code",
   "execution_count": 43,
   "id": "66ad8492",
   "metadata": {},
   "outputs": [],
   "source": [
    "voting_regr_predict = voting_regr.predict(X_test)"
   ]
  },
  {
   "cell_type": "code",
   "execution_count": 44,
   "id": "dc350cf3",
   "metadata": {},
   "outputs": [
    {
     "data": {
      "text/plain": [
       "array([10.5021504 , 18.86179041, 16.75161751, ..., 18.6570156 ,\n",
       "        0.95291115, -0.88596937])"
      ]
     },
     "execution_count": 44,
     "metadata": {},
     "output_type": "execute_result"
    }
   ],
   "source": [
    "voting_regr_predict"
   ]
  },
  {
   "cell_type": "code",
   "execution_count": 45,
   "id": "45f188b7",
   "metadata": {},
   "outputs": [
    {
     "name": "stdout",
     "output_type": "stream",
     "text": [
      "0.8076441040948558\n"
     ]
    }
   ],
   "source": [
    "from sklearn.metrics import r2_score\n",
    "score=r2_score(y_test,voting_regr_predict)\n",
    "print(score)"
   ]
  },
  {
   "cell_type": "markdown",
   "id": "30ad4129",
   "metadata": {},
   "source": [
    "### Random Forest Regressor"
   ]
  },
  {
   "cell_type": "code",
   "execution_count": 46,
   "id": "c2fdee87",
   "metadata": {},
   "outputs": [],
   "source": [
    "from sklearn.ensemble import RandomForestRegressor\n",
    "rand_forest_regr = RandomForestRegressor(max_depth=2, random_state=0)"
   ]
  },
  {
   "cell_type": "code",
   "execution_count": 47,
   "id": "3fc78646",
   "metadata": {},
   "outputs": [
    {
     "data": {
      "text/plain": [
       "RandomForestRegressor(max_depth=2, random_state=0)"
      ]
     },
     "execution_count": 47,
     "metadata": {},
     "output_type": "execute_result"
    }
   ],
   "source": [
    "rand_forest_regr.fit(X_train,y_train)"
   ]
  },
  {
   "cell_type": "code",
   "execution_count": 48,
   "id": "30d57817",
   "metadata": {},
   "outputs": [],
   "source": [
    "rand_forest_regr_predict = rand_forest_regr.predict(X_test)"
   ]
  },
  {
   "cell_type": "code",
   "execution_count": 49,
   "id": "4b6e19d2",
   "metadata": {},
   "outputs": [
    {
     "data": {
      "text/plain": [
       "array([16.92573181, 16.92573181, 16.92573181, ..., 16.92573181,\n",
       "        0.80369973,  0.80369973])"
      ]
     },
     "execution_count": 49,
     "metadata": {},
     "output_type": "execute_result"
    }
   ],
   "source": [
    "rand_forest_regr_predict"
   ]
  },
  {
   "cell_type": "code",
   "execution_count": 50,
   "id": "6fe0509e",
   "metadata": {},
   "outputs": [
    {
     "name": "stdout",
     "output_type": "stream",
     "text": [
      "0.8076441040948558\n"
     ]
    }
   ],
   "source": [
    "from sklearn.metrics import r2_score\n",
    "score=r2_score(y_test,voting_regr_predict)\n",
    "print(score)"
   ]
  },
  {
   "cell_type": "code",
   "execution_count": null,
   "id": "06287c61",
   "metadata": {},
   "outputs": [],
   "source": []
  }
 ],
 "metadata": {
  "kernelspec": {
   "display_name": "Python 3 (ipykernel)",
   "language": "python",
   "name": "python3"
  },
  "language_info": {
   "codemirror_mode": {
    "name": "ipython",
    "version": 3
   },
   "file_extension": ".py",
   "mimetype": "text/x-python",
   "name": "python",
   "nbconvert_exporter": "python",
   "pygments_lexer": "ipython3",
   "version": "3.9.12"
  }
 },
 "nbformat": 4,
 "nbformat_minor": 5
}
